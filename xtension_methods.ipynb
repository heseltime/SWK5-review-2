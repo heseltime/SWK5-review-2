{
 "cells": [
  {
   "cell_type": "markdown",
   "metadata": {},
   "source": [
    "Schreiben Sie für den Datentyp `int` eine Erweiterungsmethode `IsEven`, welche\n",
    "`true` liefert, falls eine Zahl gerade ist, und sonst `false` zurückgibt."
   ]
  },
  {
   "cell_type": "code",
   "execution_count": 8,
   "metadata": {
    "vscode": {
     "languageId": "polyglot-notebook"
    }
   },
   "outputs": [
    {
     "name": "stdout",
     "output_type": "stream",
     "text": [
      "1 is odd\n",
      "2 is even\n",
      "3 is odd\n",
      "4 is even\n"
     ]
    }
   ],
   "source": [
    "public static bool IsEven(this int n) => n % 2 == 0;\n",
    "\n",
    "foreach (var i in new [] {1,2,3,4}) \n",
    "{\n",
    "  var e = i.IsEven() ? \"even\" : \"odd\";\n",
    "  Console.WriteLine($\"{i} is { e }\");\n",
    "}"
   ]
  },
  {
   "cell_type": "markdown",
   "metadata": {},
   "source": [
    "_When the compiler encounters an extension method call, it translates it into a call to the static method. This is why the method itself must be static; it needs to exist independently of any instance, as it doesn't belong to the instance of the type being extended but rather to a static class that provides the extension._"
   ]
  },
  {
   "cell_type": "markdown",
   "metadata": {},
   "source": [
    "Schreiben Sie für `int` eine weitere Erweiterungsmethode `Holds`, welche überprüft, ob für eine ganze Zahl ein vorgegebenes Prädikat erfüllt ist."
   ]
  },
  {
   "cell_type": "markdown",
   "metadata": {},
   "source": [
    "Definieren Sie dafür zunächst einen Delegate-Type `Predicate`, der Methoden\n",
    "beschreibt, die eine ganze Zahl auf einen booleschen Wert abbilden."
   ]
  },
  {
   "cell_type": "code",
   "execution_count": 14,
   "metadata": {
    "vscode": {
     "languageId": "polyglot-notebook"
    }
   },
   "outputs": [],
   "source": [
    "public delegate bool Predicate(int i);"
   ]
  },
  {
   "cell_type": "code",
   "execution_count": 17,
   "metadata": {
    "vscode": {
     "languageId": "polyglot-notebook"
    }
   },
   "outputs": [],
   "source": [
    "static bool Holds(this int i, Predicate p) => p(i); // this is the Xtension"
   ]
  },
  {
   "cell_type": "markdown",
   "metadata": {},
   "source": [
    "Geben Sie nachfolgend unter Zuhilfenahme von `Holds` alle positiven Zahlen des\n",
    "Arrays `numbers` auf der Konsole aus."
   ]
  },
  {
   "cell_type": "code",
   "execution_count": 19,
   "metadata": {
    "vscode": {
     "languageId": "polyglot-notebook"
    }
   },
   "outputs": [
    {
     "name": "stdout",
     "output_type": "stream",
     "text": [
      "3\n",
      "8\n",
      "41\n"
     ]
    }
   ],
   "source": [
    "var numbers = new [] { -1, 3, -5, 8, -17, 41 };\n",
    "\n",
    "numbers.Where(n => n.Holds(i => i > 0)).ToList().ForEach(Console.WriteLine);"
   ]
  }
 ],
 "metadata": {
  "kernelspec": {
   "display_name": ".NET (C#)",
   "language": "C#",
   "name": ".net-csharp"
  },
  "language_info": {
   "name": "python"
  },
  "polyglot_notebook": {
   "kernelInfo": {
    "defaultKernelName": "csharp",
    "items": [
     {
      "aliases": [],
      "name": "csharp"
     }
    ]
   }
  }
 },
 "nbformat": 4,
 "nbformat_minor": 2
}
