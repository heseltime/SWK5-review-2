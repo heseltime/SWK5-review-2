{
 "cells": [
  {
   "cell_type": "markdown",
   "metadata": {},
   "source": [
    "## See also _last_exam: LINQ + extension method is the principle"
   ]
  },
  {
   "cell_type": "code",
   "execution_count": 3,
   "metadata": {
    "dotnet_interactive": {
     "language": "csharp"
    },
    "polyglot_notebook": {
     "kernelName": "csharp"
    },
    "vscode": {
     "languageId": "polyglot-notebook"
    }
   },
   "outputs": [
    {
     "name": "stdout",
     "output_type": "stream",
     "text": [
      "H\n",
      "e\n",
      "l\n",
      "l\n",
      "o\n",
      "!\n"
     ]
    }
   ],
   "source": [
    "\n",
    "public static IEnumerable<char> Characters(this string input)\n",
    "{\n",
    "\tforeach (var ch in input)\n",
    "\t{\n",
    "\t\tyield return ch;\n",
    "\t}\n",
    "}\n",
    "\n",
    "var test = \"Hello!\".Characters();\n",
    "foreach(var c in test)\n",
    "{\n",
    "\tConsole.WriteLine(c);\n",
    "}\n",
    "\n",
    "// enumerator stuff ... see yield-return\n",
    "IEnumerator<char> enumerator = test.GetEnumerator();"
   ]
  },
  {
   "cell_type": "code",
   "execution_count": 4,
   "metadata": {
    "vscode": {
     "languageId": "polyglot-notebook"
    }
   },
   "outputs": [
    {
     "name": "stdout",
     "output_type": "stream",
     "text": [
      "H\n",
      "E\n",
      "L\n",
      "L\n",
      "O\n"
     ]
    }
   ],
   "source": [
    "var test_filtered = from c in test where Char.IsLetter(c) select Char.ToUpper(c);\n",
    "\n",
    "foreach(var c in test_filtered)\n",
    "{\n",
    "    Console.WriteLine(c);\n",
    "}"
   ]
  },
  {
   "cell_type": "markdown",
   "metadata": {},
   "source": [
    "### Generating (Mapping to) Objects"
   ]
  },
  {
   "cell_type": "code",
   "execution_count": 8,
   "metadata": {
    "vscode": {
     "languageId": "polyglot-notebook"
    }
   },
   "outputs": [
    {
     "name": "stdout",
     "output_type": "stream",
     "text": [
      "John 30 H\n",
      "John 30 E\n",
      "John 30 L\n",
      "John 30 L\n",
      "John 30 O\n"
     ]
    }
   ],
   "source": [
    "public class Person\n",
    "{\n",
    "    public char FavoriteLetter { get; set; }\n",
    "    public string Name { get; set; }\n",
    "    public int Age { get; set; }\n",
    "}\n",
    "\n",
    "var test_people = from c in test_filtered select new Person { FavoriteLetter = c, Name = \"John\", Age = 30 };\n",
    "\n",
    "foreach(var p in test_people)\n",
    "{\n",
    "    Console.WriteLine(p.Name + \" \" + p.Age + \" \" + p.FavoriteLetter);\n",
    "} "
   ]
  },
  {
   "cell_type": "code",
   "execution_count": null,
   "metadata": {
    "vscode": {
     "languageId": "polyglot-notebook"
    }
   },
   "outputs": [],
   "source": []
  }
 ],
 "metadata": {
  "kernelspec": {
   "display_name": ".NET (C#)",
   "language": "C#",
   "name": ".net-csharp"
  },
  "language_info": {
   "name": "python"
  },
  "polyglot_notebook": {
   "kernelInfo": {
    "defaultKernelName": "csharp",
    "items": [
     {
      "aliases": [],
      "name": "csharp"
     }
    ]
   }
  }
 },
 "nbformat": 4,
 "nbformat_minor": 2
}
