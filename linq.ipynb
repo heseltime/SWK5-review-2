{
 "cells": [
  {
   "cell_type": "markdown",
   "metadata": {},
   "source": [
    "## See also _last_exam: LINQ + extension method is the principle"
   ]
  },
  {
   "cell_type": "code",
   "execution_count": 3,
   "metadata": {
    "dotnet_interactive": {
     "language": "csharp"
    },
    "polyglot_notebook": {
     "kernelName": "csharp"
    },
    "vscode": {
     "languageId": "polyglot-notebook"
    }
   },
   "outputs": [
    {
     "name": "stdout",
     "output_type": "stream",
     "text": [
      "H\n",
      "e\n",
      "l\n",
      "l\n",
      "o\n",
      "!\n"
     ]
    }
   ],
   "source": [
    "\n",
    "public static IEnumerable<char> Characters(this string input)\n",
    "{\n",
    "\tforeach (var ch in input)\n",
    "\t{\n",
    "\t\tyield return ch;\n",
    "\t}\n",
    "}\n",
    "\n",
    "var test = \"Hello!\".Characters();\n",
    "foreach(var c in test)\n",
    "{\n",
    "\tConsole.WriteLine(c);\n",
    "}\n",
    "\n",
    "// enumerator stuff ... see yield-return\n",
    "IEnumerator<char> enumerator = test.GetEnumerator();"
   ]
  },
  {
   "cell_type": "code",
   "execution_count": 4,
   "metadata": {
    "dotnet_interactive": {
     "language": "csharp"
    },
    "polyglot_notebook": {
     "kernelName": "csharp"
    },
    "vscode": {
     "languageId": "polyglot-notebook"
    }
   },
   "outputs": [
    {
     "name": "stdout",
     "output_type": "stream",
     "text": [
      "H\n",
      "E\n",
      "L\n",
      "L\n",
      "O\n"
     ]
    }
   ],
   "source": [
    "var test_filtered = from c in test where Char.IsLetter(c) select Char.ToUpper(c);\n",
    "\n",
    "foreach(var c in test_filtered)\n",
    "{\n",
    "    Console.WriteLine(c);\n",
    "}"
   ]
  },
  {
   "cell_type": "markdown",
   "metadata": {},
   "source": [
    "### Generating (Mapping to) Objects"
   ]
  },
  {
   "cell_type": "code",
   "execution_count": 8,
   "metadata": {
    "dotnet_interactive": {
     "language": "csharp"
    },
    "polyglot_notebook": {
     "kernelName": "csharp"
    },
    "vscode": {
     "languageId": "polyglot-notebook"
    }
   },
   "outputs": [
    {
     "name": "stdout",
     "output_type": "stream",
     "text": [
      "John 30 H\n",
      "John 30 E\n",
      "John 30 L\n",
      "John 30 L\n",
      "John 30 O\n"
     ]
    }
   ],
   "source": [
    "public class Person\n",
    "{\n",
    "    public char FavoriteLetter { get; set; }\n",
    "    public string Name { get; set; }\n",
    "    public int Age { get; set; }\n",
    "}\n",
    "\n",
    "var test_people = from c in test_filtered select new Person { FavoriteLetter = c, Name = \"John\", Age = 30 };\n",
    "\n",
    "foreach(var p in test_people)\n",
    "{\n",
    "    Console.WriteLine(p.Name + \" \" + p.Age + \" \" + p.FavoriteLetter);\n",
    "} "
   ]
  },
  {
   "cell_type": "markdown",
   "metadata": {},
   "source": [
    "Another Example: Rewrite as Extension Method"
   ]
  },
  {
   "cell_type": "code",
   "execution_count": 9,
   "metadata": {
    "dotnet_interactive": {
     "language": "csharp"
    },
    "polyglot_notebook": {
     "kernelName": "csharp"
    },
    "vscode": {
     "languageId": "polyglot-notebook"
    }
   },
   "outputs": [],
   "source": [
    "public class Person\n",
    "{\n",
    "    public int Id { get; set; }\n",
    "    public string Name { get; set; }\n",
    "    public int Age { get; set; }\n",
    "}\n",
    "\n",
    "public class Employee\n",
    "{\n",
    "    public int EmployeeId { get; set; }\n",
    "    public string FullName { get; set; }\n",
    "}\n"
   ]
  },
  {
   "cell_type": "code",
   "execution_count": 19,
   "metadata": {
    "dotnet_interactive": {
     "language": "csharp"
    },
    "polyglot_notebook": {
     "kernelName": "csharp"
    },
    "vscode": {
     "languageId": "polyglot-notebook"
    }
   },
   "outputs": [
    {
     "name": "stdout",
     "output_type": "stream",
     "text": [
      "EmployeeId: 1, FullName: Alice\n",
      "EmployeeId: 2, FullName: Bob\n",
      "EmployeeId: 4, FullName: David\n",
      "EmployeeId: 5, FullName: Eve\n"
     ]
    }
   ],
   "source": [
    "// Create a list of Person objects\n",
    "List<Person> people = new List<Person>\n",
    "{\n",
    "    new Person { Id = 1, Name = \"Alice\", Age = 30 },\n",
    "    new Person { Id = 2, Name = \"Bob\", Age = 40 },\n",
    "    new Person { Id = 3, Name = \"Charlie\", Age = 25 },\n",
    "    new Person { Id = 4, Name = \"David\", Age = 35 }\n",
    "};\n",
    "\n",
    "// Call the method to get a list of Employee objects\n",
    "IEnumerable<Employee> employees = people.GetEmployees(30);\n",
    "\n",
    "// Demo deferred execution\n",
    "people.Add(new Person { Id = 5, Name = \"Eve\", Age = 40 });\n",
    "\n",
    "// Print the Employee objects\n",
    "foreach (var employee in employees)\n",
    "{\n",
    "    Console.WriteLine($\"EmployeeId: {employee.EmployeeId}, FullName: {employee.FullName}\");\n",
    "}\n",
    "\n",
    "public static IEnumerable<Employee> GetEmployees(this IEnumerable<Person> people, int minAge)\n",
    "{\n",
    "    // Use LINQ to filter the list and create new Employee objects\n",
    "    //var filteredPeople = people.Where(p => p.Age >= minAge);\n",
    "    //var filteredPeople = from p in people where p.Age >= minAge select p;\n",
    "\n",
    "    var filteredEmployees = from p in people where p.Age >= minAge select new Employee{ EmployeeId = p.Id, FullName = p.Name };\n",
    "\n",
    "    // Note: does not work (no construcutor with 2 arguments) - the above uses initializer\n",
    "    //var filteredEmployees = from p in people where p.Age >= minAge select new Employee(p.Id, p.Name);\n",
    "\n",
    "    foreach (var e in filteredEmployees)\n",
    "    {\n",
    "        yield return e;\n",
    "    }\n",
    "\n",
    "    /*foreach (var person in filteredPeople)\n",
    "    {\n",
    "        yield return new Employee\n",
    "        {\n",
    "            EmployeeId = person.Id,\n",
    "            FullName = person.Name\n",
    "        };\n",
    "    }*/\n",
    "}"
   ]
  },
  {
   "cell_type": "markdown",
   "metadata": {},
   "source": [
    "An initializer in C# is a syntax that allows you to set the properties or fields of an object at the time of its creation, without explicitly calling a constructor for each property. This can be done using an object initializer or a collection initializer.\n",
    "\n",
    "An object initializer allows you to create an instance of a class and initialize its properties in a single statement. This is particularly useful when you want to avoid writing multiple lines of code to set each property individually.\n",
    "\n",
    "A collection initializer allows you to initialize a collection (such as a list, array, or dictionary) with a set of values at the time of its creation.\n",
    "\n",
    "Both are used in the above."
   ]
  },
  {
   "cell_type": "markdown",
   "metadata": {},
   "source": [
    "## Student example from UE"
   ]
  },
  {
   "cell_type": "code",
   "execution_count": 24,
   "metadata": {
    "dotnet_interactive": {
     "language": "csharp"
    },
    "polyglot_notebook": {
     "kernelName": "csharp"
    },
    "vscode": {
     "languageId": "polyglot-notebook"
    }
   },
   "outputs": [],
   "source": [
    "record Student(string MatNr, string Name, string Subject, int[] Grades);\n",
    "\n",
    "IEnumerable<Student> students = new List<Student>\n",
    "{\n",
    "    new Student(\"12345\", \"Alice\", \"SE\", new int[] { 1, 2, 3 }),\n",
    "    new Student(\"23456\", \"Bob\", \"Physics\", new int[] { 4, 5, 6 }),\n",
    "    new Student(\"34567\", \"Charlie\", \"Chemistry\", new int[] { 7, 8, 9 })\n",
    "};"
   ]
  },
  {
   "cell_type": "code",
   "execution_count": 28,
   "metadata": {
    "dotnet_interactive": {
     "language": "csharp"
    },
    "polyglot_notebook": {
     "kernelName": "csharp"
    },
    "vscode": {
     "languageId": "polyglot-notebook"
    }
   },
   "outputs": [
    {
     "name": "stdout",
     "output_type": "stream",
     "text": [
      "12345 Alice\r\n"
     ]
    }
   ],
   "source": [
    "var studentsFiltered = \n",
    "    from s in students \n",
    "    where s.Subject.Equals(\"SE\", StringComparison.OrdinalIgnoreCase)\n",
    "     select new {s.MatNr, s.Name};\n",
    "\n",
    "foreach(var s in studentsFiltered)\n",
    "{\n",
    "    Console.WriteLine(s.MatNr + \" \" + s.Name);\n",
    "}   "
   ]
  },
  {
   "cell_type": "markdown",
   "metadata": {},
   "source": [
    ">Important: the folllowing - using only extension methods"
   ]
  },
  {
   "cell_type": "code",
   "execution_count": 31,
   "metadata": {
    "dotnet_interactive": {
     "language": "csharp"
    },
    "polyglot_notebook": {
     "kernelName": "csharp"
    },
    "vscode": {
     "languageId": "polyglot-notebook"
    }
   },
   "outputs": [
    {
     "name": "stdout",
     "output_type": "stream",
     "text": [
      "12345 Alice\r\n"
     ]
    }
   ],
   "source": [
    "var studentsFilteredX =\n",
    "    students.Where(s => s.Subject.Equals(\"SE\", StringComparison.OrdinalIgnoreCase))\n",
    "            .Select(s => new {s.MatNr, s.Name});\n",
    "\n",
    "foreach(var s in studentsFilteredX)\n",
    "{\n",
    "    Console.WriteLine(s.MatNr + \" \" + s.Name);\n",
    "} "
   ]
  },
  {
   "cell_type": "code",
   "execution_count": 34,
   "metadata": {
    "dotnet_interactive": {
     "language": "csharp"
    },
    "polyglot_notebook": {
     "kernelName": "csharp"
    },
    "vscode": {
     "languageId": "polyglot-notebook"
    }
   },
   "outputs": [
    {
     "name": "stdout",
     "output_type": "stream",
     "text": [
      "23456 Bob\n",
      "34567 Charlie\n"
     ]
    }
   ],
   "source": [
    "var studentsBetterThanAverage =\n",
    "    from s in students\n",
    "    where s.Grades.All(g => g > 3)\n",
    "    select s;\n",
    "\n",
    "foreach(var s in studentsBetterThanAverage)\n",
    "{\n",
    "    Console.WriteLine(s.MatNr + \" \" + s.Name);\n",
    "} "
   ]
  },
  {
   "cell_type": "markdown",
   "metadata": {},
   "source": [
    "## let!"
   ]
  },
  {
   "cell_type": "code",
   "execution_count": 39,
   "metadata": {
    "dotnet_interactive": {
     "language": "csharp"
    },
    "polyglot_notebook": {
     "kernelName": "csharp"
    },
    "vscode": {
     "languageId": "polyglot-notebook"
    }
   },
   "outputs": [
    {
     "name": "stdout",
     "output_type": "stream",
     "text": [
      "8 Charlie\n",
      "5 Bob\n",
      "2 Alice\n"
     ]
    }
   ],
   "source": [
    "var studentsNamesAndAvgGrade =\n",
    "    from s in students\n",
    "    let avgGrade = s.Grades.Average()\n",
    "    orderby avgGrade descending\n",
    "    select new {s.Name, AvgGrade = avgGrade};\n",
    "\n",
    "foreach(var s in studentsNamesAndAvgGrade)\n",
    "{\n",
    "    Console.WriteLine(s.AvgGrade + \" \" + s.Name);\n",
    "} "
   ]
  },
  {
   "cell_type": "code",
   "execution_count": 46,
   "metadata": {
    "dotnet_interactive": {
     "language": "csharp"
    },
    "polyglot_notebook": {
     "kernelName": "csharp"
    },
    "vscode": {
     "languageId": "polyglot-notebook"
    }
   },
   "outputs": [
    {
     "name": "stdout",
     "output_type": "stream",
     "text": [
      "Sehr gut\n",
      "Gut\n",
      "Befriedigend\n"
     ]
    }
   ],
   "source": [
    "var gradeStrings = new [] { \"Sehr gut\", \"Gut\", \"Befriedigend\", \"Genügend\", \"Nicht genügend\" };\n",
    "\n",
    "var student = students.Single(s => s.MatNr == \"12345\");\n",
    "var grades = from g in student.Grades select gradeStrings[g-1];\n",
    "\n",
    "foreach(var g in grades)\n",
    "{\n",
    "    Console.WriteLine(g);\n",
    "}"
   ]
  }
 ],
 "metadata": {
  "kernelspec": {
   "display_name": ".NET (C#)",
   "language": "C#",
   "name": ".net-csharp"
  },
  "language_info": {
   "name": "python"
  },
  "polyglot_notebook": {
   "kernelInfo": {
    "defaultKernelName": "csharp",
    "items": [
     {
      "aliases": [],
      "name": "csharp"
     }
    ]
   }
  }
 },
 "nbformat": 4,
 "nbformat_minor": 2
}
