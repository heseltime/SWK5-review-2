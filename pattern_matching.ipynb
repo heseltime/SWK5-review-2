{
 "cells": [
  {
   "cell_type": "markdown",
   "metadata": {},
   "source": [
    "## Pattern Matching\n",
    "\n",
    "- simple type matching"
   ]
  },
  {
   "cell_type": "code",
   "execution_count": 1,
   "metadata": {
    "dotnet_interactive": {
     "language": "csharp"
    },
    "polyglot_notebook": {
     "kernelName": "csharp"
    },
    "vscode": {
     "languageId": "polyglot-notebook"
    }
   },
   "outputs": [
    {
     "name": "stdout",
     "output_type": "stream",
     "text": [
      "The number is 42\r\n"
     ]
    }
   ],
   "source": [
    "object obj = 42;\n",
    "\n",
    "if (obj is int number)\n",
    "{\n",
    "    Console.WriteLine($\"The number is {number}\");\n",
    "}\n",
    "else\n",
    "{\n",
    "    Console.WriteLine(\"Not an integer\");\n",
    "}\n"
   ]
  },
  {
   "cell_type": "markdown",
   "metadata": {},
   "source": [
    "- switch pattern matching"
   ]
  },
  {
   "cell_type": "code",
   "execution_count": 2,
   "metadata": {
    "vscode": {
     "languageId": "polyglot-notebook"
    }
   },
   "outputs": [
    {
     "name": "stdout",
     "output_type": "stream",
     "text": [
      "It's a string: Hello\r\n"
     ]
    }
   ],
   "source": [
    "object obj = \"Hello\";\n",
    "\n",
    "switch (obj)\n",
    "{\n",
    "    case int i:\n",
    "        Console.WriteLine($\"It's an integer: {i}\");\n",
    "        break;\n",
    "    case string s:\n",
    "        Console.WriteLine($\"It's a string: {s}\");\n",
    "        break;\n",
    "    case null:\n",
    "        Console.WriteLine(\"It's null\");\n",
    "        break;\n",
    "    default:\n",
    "        Console.WriteLine(\"It's something else\");\n",
    "        break;\n",
    "}\n"
   ]
  },
  {
   "cell_type": "markdown",
   "metadata": {},
   "source": [
    "- property pattern"
   ]
  },
  {
   "cell_type": "code",
   "execution_count": 8,
   "metadata": {
    "vscode": {
     "languageId": "polyglot-notebook"
    }
   },
   "outputs": [
    {
     "name": "stdout",
     "output_type": "stream",
     "text": [
      "John is an adult.\n",
      "Jane is not an adult.\n"
     ]
    }
   ],
   "source": [
    "public class Person\n",
    "{\n",
    "    public string Name { get; set; }\n",
    "    public int Age { get; set; }\n",
    "}\n",
    "\n",
    "Person person = new Person { Name = \"John\", Age = 30 };\n",
    "\n",
    "foreach (Person p in new Person[] { person, new Person { Name = \"Jane\", Age = 15 } })\n",
    "{\n",
    "    if (p is { Age: >= 18 })\n",
    "    {\n",
    "        Console.WriteLine($\"{p.Name} is an adult.\");\n",
    "    }\n",
    "    else\n",
    "    {\n",
    "        Console.WriteLine($\"{p.Name} is not an adult.\");\n",
    "    }\n",
    "}"
   ]
  },
  {
   "cell_type": "markdown",
   "metadata": {},
   "source": [
    "- tuple pattern: Tuple patterns are used with tuples, which are a lightweight data structure that groups multiple elements into a single compound value. Each element in the tuple is identified by its position."
   ]
  },
  {
   "cell_type": "code",
   "execution_count": 10,
   "metadata": {
    "vscode": {
     "languageId": "polyglot-notebook"
    }
   },
   "outputs": [
    {
     "name": "stdout",
     "output_type": "stream",
     "text": [
      "Second quadrant\r\n"
     ]
    }
   ],
   "source": [
    "(int x, int y) point = (-3, 4);\n",
    "\n",
    "string quadrant = point switch\n",
    "{\n",
    "    ( > 0, > 0) => \"First quadrant\",\n",
    "    ( < 0, > 0) => \"Second quadrant\",\n",
    "    ( < 0, < 0) => \"Third quadrant\",\n",
    "    ( > 0, < 0) => \"Fourth quadrant\",\n",
    "    _ => \"On an axis\"\n",
    "};\n",
    "\n",
    "Console.WriteLine(quadrant);\n"
   ]
  },
  {
   "cell_type": "markdown",
   "metadata": {},
   "source": [
    "- Positional Pattern: Positional patterns are used with types that support deconstruction, such as records or custom types with deconstructor methods. The deconstruction syntax allows for more expressive and clear pattern matching, especially with user-defined types."
   ]
  },
  {
   "cell_type": "code",
   "execution_count": 11,
   "metadata": {
    "vscode": {
     "languageId": "polyglot-notebook"
    }
   },
   "outputs": [
    {
     "name": "stdout",
     "output_type": "stream",
     "text": [
      "First quadrant\r\n"
     ]
    }
   ],
   "source": [
    "public record Point(int X, int Y);\n",
    "\n",
    "Point point = new Point(2, 3);\n",
    "\n",
    "string quadrant = point switch\n",
    "{\n",
    "    ( > 0, > 0) => \"First quadrant\",\n",
    "    ( < 0, > 0) => \"Second quadrant\",\n",
    "    ( < 0, < 0) => \"Third quadrant\",\n",
    "    ( > 0, < 0) => \"Fourth quadrant\",\n",
    "    _ => \"On an axis\"\n",
    "};\n",
    "\n",
    "Console.WriteLine(quadrant);\n"
   ]
  },
  {
   "cell_type": "markdown",
   "metadata": {},
   "source": [
    "- Combining Patterns with Logical Patterns"
   ]
  },
  {
   "cell_type": "code",
   "execution_count": 12,
   "metadata": {
    "vscode": {
     "languageId": "polyglot-notebook"
    }
   },
   "outputs": [
    {
     "name": "stdout",
     "output_type": "stream",
     "text": [
      "Long string: Hello, World!\r\n"
     ]
    }
   ],
   "source": [
    "object obj = \"Hello, World!\";\n",
    "\n",
    "if (obj is string { Length: > 10 } s)\n",
    "{\n",
    "    Console.WriteLine($\"Long string: {s}\");\n",
    "}\n",
    "else if (obj is string s2 && s2.StartsWith(\"Hello\"))\n",
    "{\n",
    "    Console.WriteLine($\"Greeting string: {s2}\");\n",
    "}\n",
    "else\n",
    "{\n",
    "    Console.WriteLine(\"Other type or short string\");\n",
    "}\n"
   ]
  },
  {
   "cell_type": "markdown",
   "metadata": {},
   "source": [
    "- Recursive Patterns"
   ]
  },
  {
   "cell_type": "code",
   "execution_count": 13,
   "metadata": {
    "vscode": {
     "languageId": "polyglot-notebook"
    }
   },
   "outputs": [
    {
     "name": "stdout",
     "output_type": "stream",
     "text": [
      "True\n",
      "False\n"
     ]
    }
   ],
   "source": [
    "public class Node\n",
    "{\n",
    "    public int Value { get; set; }\n",
    "    public Node? Left { get; set; }\n",
    "    public Node? Right { get; set; }\n",
    "}\n",
    "\n",
    "Node tree = new Node\n",
    "{\n",
    "    Value = 1,\n",
    "    Left = new Node\n",
    "    {\n",
    "        Value = 2,\n",
    "        Left = new Node { Value = 3 },\n",
    "        Right = new Node { Value = 4 }\n",
    "    },\n",
    "    Right = new Node { Value = 5 }\n",
    "};\n",
    "\n",
    "bool ContainsValue(Node? node, int value) => node switch\n",
    "{\n",
    "    null => false,\n",
    "    { Value: var v } when v == value => true,\n",
    "    { Left: var left, Right: var right } => ContainsValue(left, value) || ContainsValue(right, value)\n",
    "};\n",
    "\n",
    "Console.WriteLine(ContainsValue(tree, 3));  // Output: True\n",
    "Console.WriteLine(ContainsValue(tree, 6));  // Output: False\n"
   ]
  },
  {
   "cell_type": "code",
   "execution_count": null,
   "metadata": {
    "vscode": {
     "languageId": "polyglot-notebook"
    }
   },
   "outputs": [],
   "source": []
  }
 ],
 "metadata": {
  "kernelspec": {
   "display_name": ".NET (C#)",
   "language": "C#",
   "name": ".net-csharp"
  },
  "language_info": {
   "name": "python"
  },
  "polyglot_notebook": {
   "kernelInfo": {
    "defaultKernelName": "csharp",
    "items": [
     {
      "aliases": [],
      "name": "csharp"
     }
    ]
   }
  }
 },
 "nbformat": 4,
 "nbformat_minor": 2
}
