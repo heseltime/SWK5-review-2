{
 "cells": [
  {
   "cell_type": "markdown",
   "metadata": {},
   "source": [
    "# Übungsklausur SWK5UE WS23/24"
   ]
  },
  {
   "cell_type": "markdown",
   "metadata": {},
   "source": [
    "### Aufgabe 1a\n",
    "Implementieren Sie eine Methode ```Characters```, die folgendermaßen verwendet werden kann:  \n",
    "```\n",
    "IEnumerable<char> chars = \"Hello!\".Characters();\n",
    "// -> ['H','e','l','l','o','!']\n",
    "```\n",
    "Sorgen Sie dafür, dass die zurückgegebene Funktion erst dann evaluiert wird, wenn durch ihre Elemente iteriert wird."
   ]
  },
  {
   "cell_type": "code",
   "execution_count": 45,
   "metadata": {
    "dotnet_interactive": {
     "language": "csharp"
    },
    "polyglot_notebook": {
     "kernelName": "csharp"
    },
    "vscode": {
     "languageId": "polyglot-notebook"
    }
   },
   "outputs": [
    {
     "name": "stdout",
     "output_type": "stream",
     "text": [
      "Hello!"
     ]
    }
   ],
   "source": [
    "\n",
    "public static IEnumerable<char> Characters(this string input)\n",
    "{\n",
    "\tforeach (var ch in input)\n",
    "\t{\n",
    "\t\tyield return ch;\n",
    "\t}\n",
    "}\n",
    "\n",
    "var test = \"Hello!\".Characters();\n",
    "foreach(var c in test)\n",
    "{\n",
    "\tConsole.Write(c);\n",
    "}"
   ]
  },
  {
   "cell_type": "markdown",
   "metadata": {},
   "source": [
    "### Aufgabe 1b\n",
    "Erweitern Sie das Programm, sodass aus ```chars``` die Sonderzeichen entfernt, und die verbleibenden Zeichen in Großbuchstaben konvertiert werden.  \n",
    "\n",
    "```IEnumerable<char> chars = ... -> ['H','E','L','L','O']```  \n",
    "\n",
    "Setzen Sie dafür soweit wie möglich LINQ ein. Sie können dafür die Klassenmethoden ```Char.IsLetter()``` und ```Char.ToUpper()``` verwenden."
   ]
  },
  {
   "cell_type": "code",
   "execution_count": 46,
   "metadata": {
    "dotnet_interactive": {
     "language": "csharp"
    },
    "polyglot_notebook": {
     "kernelName": "csharp"
    },
    "vscode": {
     "languageId": "polyglot-notebook"
    }
   },
   "outputs": [
    {
     "name": "stdout",
     "output_type": "stream",
     "text": [
      "HELLO"
     ]
    }
   ],
   "source": [
    "var test1 = from ch in test\n",
    "\t\t\twhere Char.IsLetter(ch)\n",
    "\t\t\tselect Char.ToUpper(ch);\n",
    "\n",
    "foreach(var c in test1)\n",
    "{\n",
    "\tConsole.Write(c);\n",
    "}"
   ]
  },
  {
   "cell_type": "markdown",
   "metadata": {},
   "source": [
    "### Aufgabe 2a\n",
    "Implementieren Sie eine Klasse ```Executor<T>``` die folgendes leistet:\n",
    "- Sie stellt eine Methode  \n",
    "```public Task ApplyAsync(Func<T> func, T arg);```  \n",
    "zur Verfügung, an die eine Funktion von folgendem Datentyp übergeben wird:  \n",
    "```delegate T Func<T>(T arg);```  \n",
    "Der zeite Parameter ist ein Wert, mit der ```func``` aufgerufen werden kann.  \n",
    "\n",
    "- ```ApplyAsync``` führt die übergebene Funktion mit dem übergebenen Argument in einer Task aus.\n",
    "Verwenden Sie dazu die Methode Task.Run mit folgender Signatur:  \n",
    "```public static Task<T> Run<T>(Func<T> function);```  \n",
    "\n",
    "- Das Ergebnis des Funktionsaufrufes wird den (registrierten) Verwendern der Klasse über das Event ```ResultComputed``` mitgeteilt.  \n",
    "\n",
    "- Wird ```ApplyAsync``` aufgerufen, während eine Berechnung im Gange ist, wird eine ```InvalidOperationException``` geworfen.  \n",
    "\n",
    "- Geben Sie auch den Datentyp von ```ResultComputed``` an.  \n"
   ]
  },
  {
   "cell_type": "code",
   "execution_count": 1,
   "metadata": {
    "dotnet_interactive": {
     "language": "csharp"
    },
    "polyglot_notebook": {
     "kernelName": "csharp"
    },
    "vscode": {
     "languageId": "polyglot-notebook"
    }
   },
   "outputs": [],
   "source": [
    "public delegate T Func<T>(T arg);\n",
    "public delegate void ResultComputedDelegate<T>(T res);\n",
    "\n",
    "public class Executor<T>\n",
    "{\n",
    "\tpublic event ResultComputedDelegate<T> ResultComputed;\n",
    "\tprivate bool isRunning = false;\n",
    "\n",
    "\tpublic Task ApplyAsync(Func<T> func, T arg)\n",
    "\t{\n",
    "        if (isRunning)\n",
    "        {\n",
    "            throw new InvalidOperationException(\"A calculation is already running.\");\n",
    "        }\n",
    "\n",
    "        isRunning = true;\n",
    "\n",
    "        return Task.Run(() =>\n",
    "        {\n",
    "            try\n",
    "            {\n",
    "                ResultComputed?.Invoke(func(arg));\n",
    "            }\n",
    "            finally\n",
    "            {\n",
    "                isRunning = false;\n",
    "            }\n",
    "        });\n",
    "\t}\n",
    "}"
   ]
  },
  {
   "cell_type": "markdown",
   "metadata": {},
   "source": [
    "\n",
    "Zeigen Sie, wie man Ihre Klasse Vervendet, indem Sie asynchron die Quadratwurzel von 2 bestimmen und das Ergebnis auf der Konsole ausgeben."
   ]
  },
  {
   "cell_type": "code",
   "execution_count": 2,
   "metadata": {
    "dotnet_interactive": {
     "language": "csharp"
    },
    "polyglot_notebook": {
     "kernelName": "csharp"
    },
    "vscode": {
     "languageId": "polyglot-notebook"
    }
   },
   "outputs": [
    {
     "name": "stdout",
     "output_type": "stream",
     "text": [
      "Result: 1.4142135623730951\n",
      "Result: 1.7320508075688772\n"
     ]
    }
   ],
   "source": [
    "public double SqrtFunc(double input) => Math.Sqrt(input);\n",
    "\n",
    "Executor<double> exec = new();\n",
    "exec.ResultComputed += res => Console.WriteLine($\"Result: {res}\");\n",
    "\n",
    "await exec.ApplyAsync(SqrtFunc, 2);\n",
    "await exec.ApplyAsync(SqrtFunc, 3);"
   ]
  },
  {
   "cell_type": "markdown",
   "metadata": {},
   "source": [
    "### Aufgabe 2 ADO.NET\n",
    "In der Tabelle ```tbl_persion (id: int, name : varchar (255), picture_url : varchar(255))``` werden personenbezogene Daten gespeichert.  \n",
    "Der Zugriff auf diese Tabelle soll in einem Data Access Object (DAO) gekapselt werden.  \n",
    "\n",
    "a) Entwerfen Sie dafür eine DAO-Schnittstelle, welche eine Methode zum Auslesen aller Personen sowie eine Methode zum Aktualisieren der Daten einer bestimmten Person zur Verfugung stellt.  \n",
    "Geben Sie auch die Definition der Domänenklasse in Form eines Record-Datentyps an.  \n",
    "\n",
    "b) lmplementieren Sie die DAO-Methode zum Auslesen der Daten aller Personen mithilfe von ADO.NET.  \n",
    "Gestalten Sie den Zugriffscode moglichst Provider-unabhangig.  \n",
    "\n",
    "Hinweise:  \n",
    "• Verwenden Sie zur Ermittlung der Verbindungsparameter die unten angegebenen Hilfsmethode.  \n",
    "• Die Signaturen der zur Losung dieser Aufgabe relevanten ADO.NET-Methoden sind ebenfalls\n",
    "unten angeführt.  \n",
    "• Die in der Übung entwickelten Unterstutzungsklassen (AdoTemplate etc.) durfen Sie\n",
    "nicht verwenden.  \n",
    "\n",
    "Hilfsmethode zum Zugriff zur Ermittlung des Connection-Strings und des Provider-Namens:\n",
    "\n",
    "```csharp\n",
    "public static class ConfigurationUtil {\n",
    "    public static (string ConnectionString, string ProviderName) GetConnectionParameters();\n",
    "}\n",
    "```\n",
    "\n",
    "Schnittstellen relevanter ADO.NET-Methoden:\n",
    "```csharp\n",
    "public class DbProviderFactories {\n",
    "    public static DbProviderFactory GetFactory(string providerName);\n",
    "}\n",
    "public abstract class DbProviderFactory {\n",
    "    public virtual DbConnection CreateConnection();\n",
    "}\n",
    "public abstract class DbConnection : IDisposable {\n",
    "    public abstract string ConnectionString { get; set; }\n",
    "    public abstract void Open();\n",
    "    public abstract DbCommand CreateCommand();\n",
    "}\n",
    "public abstract class DbCommand : IDisposable {\n",
    "    public abstract string CommandText { get; set; }\n",
    "    public abstract DbDataReader ExecuteReader();\n",
    "}\n",
    "public abstract class DbDataReader : IDataReader, IDataRecord, IDisposable {\n",
    "    public abstract bool Read();\n",
    "    public abstract object this[string name] { get; }\n",
    "}\n",
    "```"
   ]
  },
  {
   "cell_type": "code",
   "execution_count": 1,
   "metadata": {
    "dotnet_interactive": {
     "language": "csharp"
    },
    "polyglot_notebook": {
     "kernelName": "csharp"
    },
    "vscode": {
     "languageId": "polyglot-notebook"
    }
   },
   "outputs": [],
   "source": [
    "public record Person(\n",
    "\tstring Id,\n",
    "\tstring Name,\n",
    "\tstring PictureUrl\n",
    ");\n",
    "\n",
    "public interface IPersonDao\n",
    "{\n",
    "\tpublic IEnumerable<Person> GetAllPersons();\n",
    "\tpublic bool UpdatePerson(Person p);\n",
    "}\n",
    "\n",
    "\n",
    "public static class ConfigurationUtil {\n",
    "\tpublic static (string ConnectionString, string ProviderName) GetConnectionParameters()\n",
    "\t{\n",
    "\t\tstring connectionString = \"Your connection string\";\n",
    "\t\tstring providerName = \"Your provider name\";\n",
    "\n",
    "\t\treturn (connectionString, providerName);\n",
    "\t}\n",
    "}"
   ]
  },
  {
   "cell_type": "code",
   "execution_count": 3,
   "metadata": {
    "dotnet_interactive": {
     "language": "csharp"
    },
    "polyglot_notebook": {
     "kernelName": "csharp"
    },
    "vscode": {
     "languageId": "polyglot-notebook"
    }
   },
   "outputs": [],
   "source": [
    "using System;\n",
    "using System.Collections.Generic;\n",
    "using System.Data.Common;\n",
    "\n",
    "public class PersonDao : IPersonDao\n",
    "{\n",
    "\t\n",
    "\tpublic IEnumerable<Person> GetAllPersons()\n",
    "\t{\n",
    "\t\tvar (connectionString, providerName) = ConfigurationUtil.GetConnectionParameters();\n",
    "\t\tvar factory = DbProviderFactories.GetFactory(providerName);\n",
    "\n",
    "\t\tusing var connection = factory.CreateConnection();\n",
    "\t\tconnection.ConnectionString = connectionString;\n",
    "\t\tconnection.Open();\n",
    "\n",
    "\t\tusing var command = connection.CreateCommand();\n",
    "\t\tcommand.CommandText = \"SELECT Id, Name, PictureUrl FROM Persons\";\n",
    "\n",
    "\t\tusing var reader = command.ExecuteReader();\n",
    "\t\tvar persons = new List<Person>();\n",
    "\n",
    "\t\twhile (reader.Read())\n",
    "\t\t{\n",
    "\t\t\tvar person = new Person(\n",
    "\t\t\t\treader[\"Id\"].ToString(),\n",
    "\t\t\t\treader[\"Name\"].ToString(),\n",
    "\t\t\t\treader[\"PictureUrl\"].ToString()\n",
    "\t\t\t);\n",
    "\n",
    "\t\t\tpersons.Add(person);\n",
    "\t\t}\n",
    "\n",
    "\t\treturn persons;\n",
    "\t}\n",
    "\n",
    "\tpublic bool UpdatePerson(Person p)\n",
    "\t{\n",
    "\t\tthrow new NotImplementedException();\n",
    "\t}\n",
    "}"
   ]
  }
 ],
 "metadata": {
  "kernelspec": {
   "display_name": ".NET (C#)",
   "language": "C#",
   "name": ".net-csharp"
  },
  "language_info": {
   "name": "python"
  },
  "polyglot_notebook": {
   "kernelInfo": {
    "defaultKernelName": "csharp",
    "items": [
     {
      "aliases": [],
      "name": "csharp"
     }
    ]
   }
  }
 },
 "nbformat": 4,
 "nbformat_minor": 2
}
