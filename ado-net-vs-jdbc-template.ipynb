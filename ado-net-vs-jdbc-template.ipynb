{
 "cells": [
  {
   "cell_type": "markdown",
   "metadata": {},
   "source": [
    "## ADO.NET (vs JDBC ... continued in SWT-review)\n",
    "\n",
    "Key Features:\n",
    "\n",
    "- DataReader: Provides a fast, forward-only, read-only cursor for retrieving data.\n",
    "- DataSet: Provides a disconnected, in-memory representation of data. It can hold multiple tables and relationships between them.\n",
    "- Command Objects: Used to execute commands against the database (e.g., SELECT, INSERT, UPDATE, DELETE).\n",
    "- Connection Objects: Manage connections to the database.\n",
    "- Transaction Management: Supports transactions to ensure data integrity.\n",
    "- LINQ Integration: Supports Language Integrated Query (LINQ) for querying data in a more readable and concise manner.\n",
    "\n",
    "Flow for connected access: 1, SqlConnection from string connectionString; 2, SqlCommand from string query and SqlConnection connection; 3, SqlDataReader for reader.Read() (while) loop from connection.Open() and command.EcecuteReader()."
   ]
  },
  {
   "cell_type": "code",
   "execution_count": null,
   "metadata": {
    "dotnet_interactive": {
     "language": "csharp"
    },
    "polyglot_notebook": {
     "kernelName": "csharp"
    },
    "vscode": {
     "languageId": "polyglot-notebook"
    }
   },
   "outputs": [],
   "source": [
    "string connectionString = \"your_connection_string_here\";\n",
    "string query = \"SELECT Id, Name FROM YourTable\";\n",
    "\n",
    "using (SqlConnection connection = new SqlConnection(connectionString)) // 1\n",
    "{\n",
    "    SqlCommand command = new SqlCommand(query, connection); // 2\n",
    "    connection.Open();\n",
    "\n",
    "    using (SqlDataReader reader = command.ExecuteReader()) // 3\n",
    "    {\n",
    "        while (reader.Read())\n",
    "        {\n",
    "            int id = reader.GetInt32(0);\n",
    "            string name = reader.GetString(1);\n",
    "\n",
    "            Console.WriteLine($\"Id: {id}, Name: {name}\"); // yield return ...\n",
    "        }\n",
    "    }\n",
    "}"
   ]
  },
  {
   "cell_type": "markdown",
   "metadata": {},
   "source": [
    "### Record Datatypes\n",
    "\n",
    "\n",
    "In ADO.NET, you can work with record data types by creating custom classes to represent your records. This approach allows you to map database rows to instances of your custom classes, making the code more readable and maintainable. Here's an example of how to do this:"
   ]
  },
  {
   "cell_type": "code",
   "execution_count": 1,
   "metadata": {
    "vscode": {
     "languageId": "polyglot-notebook"
    }
   },
   "outputs": [],
   "source": [
    "public class Person\n",
    "{\n",
    "    public int Id { get; set; }\n",
    "    public string Name { get; set; }\n",
    "    public int Age { get; set; }\n",
    "}\n"
   ]
  },
  {
   "cell_type": "code",
   "execution_count": 2,
   "metadata": {
    "vscode": {
     "languageId": "polyglot-notebook"
    }
   },
   "outputs": [
    {
     "ename": "Error",
     "evalue": "(6,8): error CS0246: The type or namespace name 'SqlConnection' could not be found (are you missing a using directive or an assembly reference?)\r\n(6,39): error CS0246: The type or namespace name 'SqlConnection' could not be found (are you missing a using directive or an assembly reference?)\r\n(8,5): error CS0246: The type or namespace name 'SqlCommand' could not be found (are you missing a using directive or an assembly reference?)\r\n(8,30): error CS0246: The type or namespace name 'SqlCommand' could not be found (are you missing a using directive or an assembly reference?)\r\n(11,12): error CS0246: The type or namespace name 'SqlDataReader' could not be found (are you missing a using directive or an assembly reference?)",
     "output_type": "error",
     "traceback": [
      "(6,8): error CS0246: The type or namespace name 'SqlConnection' could not be found (are you missing a using directive or an assembly reference?)\r\n",
      "(6,39): error CS0246: The type or namespace name 'SqlConnection' could not be found (are you missing a using directive or an assembly reference?)\r\n",
      "(8,5): error CS0246: The type or namespace name 'SqlCommand' could not be found (are you missing a using directive or an assembly reference?)\r\n",
      "(8,30): error CS0246: The type or namespace name 'SqlCommand' could not be found (are you missing a using directive or an assembly reference?)\r\n",
      "(11,12): error CS0246: The type or namespace name 'SqlDataReader' could not be found (are you missing a using directive or an assembly reference?)"
     ]
    }
   ],
   "source": [
    "string connectionString = \"your_connection_string_here\";\n",
    "string query = \"SELECT Id, Name, Age FROM Person\";\n",
    "\n",
    "List<Person> persons = new List<Person>();\n",
    "\n",
    "using (SqlConnection connection = new SqlConnection(connectionString))\n",
    "{\n",
    "    SqlCommand command = new SqlCommand(query, connection);\n",
    "    connection.Open();\n",
    "\n",
    "    using (SqlDataReader reader = command.ExecuteReader())\n",
    "    {\n",
    "        while (reader.Read())\n",
    "        {\n",
    "            Person person = new Person\n",
    "            {\n",
    "                Id = reader.GetInt32(0),\n",
    "                Name = reader.GetString(1),\n",
    "                Age = reader.GetInt32(2)\n",
    "            };\n",
    "\n",
    "            persons.Add(person);\n",
    "        }\n",
    "    }\n",
    "}\n",
    "\n",
    "// Print the fetched records\n",
    "foreach (var person in persons)\n",
    "{\n",
    "    Console.WriteLine($\"Id: {person.Id}, Name: {person.Name}, Age: {person.Age}\");\n",
    "}"
   ]
  },
  {
   "cell_type": "code",
   "execution_count": null,
   "metadata": {
    "vscode": {
     "languageId": "polyglot-notebook"
    }
   },
   "outputs": [],
   "source": []
  }
 ],
 "metadata": {
  "kernelspec": {
   "display_name": ".NET (C#)",
   "language": "C#",
   "name": ".net-csharp"
  },
  "language_info": {
   "name": "python"
  },
  "polyglot_notebook": {
   "kernelInfo": {
    "defaultKernelName": "csharp",
    "items": [
     {
      "aliases": [],
      "name": "csharp"
     }
    ]
   }
  }
 },
 "nbformat": 4,
 "nbformat_minor": 2
}
