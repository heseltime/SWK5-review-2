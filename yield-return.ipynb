{
 "cells": [
  {
   "cell_type": "markdown",
   "metadata": {},
   "source": [
    "# Intro\n",
    "\n",
    "## yield return\n",
    "\n",
    "The yield return statement is used in an iterator method to provide a value to the enumerator object and then pause the execution of the method. The next time the enumerator's MoveNext method is called, the execution continues from the point where yield return was last called. This allows for the creation of sequences that are computed on-the-fly, as needed."
   ]
  },
  {
   "cell_type": "code",
   "execution_count": 1,
   "metadata": {
    "dotnet_interactive": {
     "language": "csharp"
    },
    "polyglot_notebook": {
     "kernelName": "csharp"
    },
    "vscode": {
     "languageId": "polyglot-notebook"
    }
   },
   "outputs": [
    {
     "name": "stdout",
     "output_type": "stream",
     "text": [
      "1\n",
      "2\n",
      "3\n"
     ]
    }
   ],
   "source": [
    "foreach (int number in GetNumbers())\n",
    "{\n",
    "    Console.WriteLine(number);\n",
    "}\n",
    "\n",
    "public static IEnumerable<int> GetNumbers()\n",
    "{\n",
    "yield return 1;\n",
    "yield return 2;\n",
    "yield return 3;\n",
    "}"
   ]
  },
  {
   "cell_type": "code",
   "execution_count": 24,
   "metadata": {
    "vscode": {
     "languageId": "polyglot-notebook"
    }
   },
   "outputs": [
    {
     "name": "stdout",
     "output_type": "stream",
     "text": [
      "1\n",
      "2\n"
     ]
    }
   ],
   "source": [
    "// a slightly different way\n",
    "public static IEnumerable<int> GetNumbers()\n",
    "{\n",
    "    for (int i = 1; i <= 3; i++)\n",
    "    {\n",
    "        yield return i;\n",
    "    }\n",
    "}\n",
    "\n",
    "/*\n",
    "Console.WriteLine(GetNumbers().First());\n",
    "Console.WriteLine(GetNumbers().Last());\n",
    "\n",
    "Console.WriteLine(GetNumbers().ElementAt(1)); \n",
    "\n",
    "Console.WriteLine(GetNumbers().Count());\n",
    "*/\n",
    "\n",
    "// IEnumerable is an interface that defines a single method, GetEnumerator(), \n",
    "//     which returns an IEnumerator\n",
    "\n",
    "var nE = GetNumbers().GetEnumerator();\n",
    "nE.MoveNext();\n",
    "Console.WriteLine(nE.Current); \n",
    "nE.MoveNext();\n",
    "Console.WriteLine(nE.Current); "
   ]
  },
  {
   "cell_type": "code",
   "execution_count": 15,
   "metadata": {
    "vscode": {
     "languageId": "polyglot-notebook"
    }
   },
   "outputs": [
    {
     "name": "stdout",
     "output_type": "stream",
     "text": [
      "Sat\n",
      "Fri\n",
      "Thu\n",
      "Wed\n",
      "Tue\n",
      "Mon\n",
      "Sun\n"
     ]
    }
   ],
   "source": [
    "// in a class, customer iterator example\n",
    "public class DaysOfTheWeek : IEnumerable\n",
    "{\n",
    "    private string[] days = { \"Sun\", \"Mon\", \"Tue\", \"Wed\", \"Thu\", \"Fri\", \"Sat\" };\n",
    "\n",
    "    public IEnumerator GetEnumerator()\n",
    "    {\n",
    "        for (int i = days.Length - 1; i >= 0; i--)\n",
    "        {\n",
    "            yield return days[i];\n",
    "        }\n",
    "    }\n",
    "}\n",
    "\n",
    "DaysOfTheWeek week = new DaysOfTheWeek();\n",
    "\n",
    "foreach (string day in week)\n",
    "{\n",
    "    Console.WriteLine(day);\n",
    "}"
   ]
  },
  {
   "cell_type": "markdown",
   "metadata": {},
   "source": [
    "## deferred execution"
   ]
  },
  {
   "cell_type": "markdown",
   "metadata": {},
   "source": [
    "Deferred execution means that the evaluation of an expression is delayed until its realized value is actually required. This is a key concept in LINQ (Language Integrated Query) and other .NET collection operations.\n",
    "\n",
    "Deferred execution allows for more efficient query definitions and data processing since the actual computation is delayed until the results are iterated over. This can lead to performance benefits, especially with large datasets, as it avoids unnecessary computations."
   ]
  },
  {
   "cell_type": "code",
   "execution_count": 20,
   "metadata": {
    "vscode": {
     "languageId": "polyglot-notebook"
    }
   },
   "outputs": [
    {
     "name": "stdout",
     "output_type": "stream",
     "text": [
      "7\n",
      "11\n",
      "11\n"
     ]
    }
   ],
   "source": [
    "private IEnumerable<int> FindPrimes(int from, int to) {\n",
    "    int i = from;\n",
    "    while (i <= to) {\n",
    "        while(!IsPrime(i)) i++;\n",
    "        if (i <= to) yield return i++;\n",
    "    }\n",
    "}\n",
    "\n",
    "private bool IsPrime(int i) {\n",
    "    if (i == 1) return false;\n",
    "    if (i == 2) return true;\n",
    "    if (i % 2 == 0) return false;\n",
    "    for (int j = 3; j <= Math.Sqrt(i); j += 2) {\n",
    "        if (i % j == 0) return false;\n",
    "    }\n",
    "    return true;\n",
    "}\n",
    "\n",
    "IEnumerable<int> primes = FindPrimes(6, 11);\n",
    "IEnumerator<int> primeEnumerator = primes.GetEnumerator();\n",
    "primeEnumerator.MoveNext();\n",
    "Console.WriteLine(primeEnumerator.Current);\n",
    "primeEnumerator.MoveNext();\n",
    "Console.WriteLine(primeEnumerator.Current);\n",
    "primeEnumerator.MoveNext();\n",
    "Console.WriteLine(primeEnumerator.Current);"
   ]
  },
  {
   "cell_type": "code",
   "execution_count": 21,
   "metadata": {
    "vscode": {
     "languageId": "polyglot-notebook"
    }
   },
   "outputs": [
    {
     "name": "stdout",
     "output_type": "stream",
     "text": [
      "2\n",
      "4\n",
      "6\n"
     ]
    }
   ],
   "source": [
    "List<int> numbers = new List<int> { 1, 2, 3, 4, 5 };\n",
    "\n",
    "// LINQ query with deferred execution\n",
    "var evenNumbers = numbers.Where(n => n % 2 == 0);\n",
    "\n",
    "// Adding a new number to the list\n",
    "numbers.Add(6);\n",
    "\n",
    "// Execution happens here\n",
    "foreach (var number in evenNumbers)\n",
    "{\n",
    "    Console.WriteLine(number); // 6 is included because of deferred exec.\n",
    "}"
   ]
  },
  {
   "cell_type": "code",
   "execution_count": null,
   "metadata": {
    "vscode": {
     "languageId": "polyglot-notebook"
    }
   },
   "outputs": [],
   "source": []
  }
 ],
 "metadata": {
  "kernelspec": {
   "display_name": ".NET (C#)",
   "language": "C#",
   "name": ".net-csharp"
  },
  "language_info": {
   "name": "python"
  },
  "polyglot_notebook": {
   "kernelInfo": {
    "defaultKernelName": "csharp",
    "items": [
     {
      "aliases": [],
      "name": "csharp"
     }
    ]
   }
  }
 },
 "nbformat": 4,
 "nbformat_minor": 2
}
