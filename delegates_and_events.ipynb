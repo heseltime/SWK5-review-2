{
 "cells": [
  {
   "cell_type": "markdown",
   "metadata": {},
   "source": [
    "### general delegating: "
   ]
  },
  {
   "cell_type": "code",
   "execution_count": 1,
   "metadata": {
    "vscode": {
     "languageId": "polyglot-notebook"
    }
   },
   "outputs": [],
   "source": [
    "delegate int MathOperationDelegate(int a, int b);"
   ]
  },
  {
   "cell_type": "code",
   "execution_count": 2,
   "metadata": {
    "vscode": {
     "languageId": "polyglot-notebook"
    }
   },
   "outputs": [],
   "source": [
    "public int Add3(int n, int m) => n + m;"
   ]
  },
  {
   "cell_type": "code",
   "execution_count": 4,
   "metadata": {
    "vscode": {
     "languageId": "polyglot-notebook"
    }
   },
   "outputs": [],
   "source": [
    "MathOperationDelegate mathOperation = Add3;"
   ]
  },
  {
   "cell_type": "code",
   "execution_count": 5,
   "metadata": {
    "vscode": {
     "languageId": "polyglot-notebook"
    }
   },
   "outputs": [
    {
     "name": "stdout",
     "output_type": "stream",
     "text": [
      "7\n",
      "7\n"
     ]
    }
   ],
   "source": [
    "Console.WriteLine(mathOperation?.Invoke(4,3));\n",
    "Console.WriteLine(mathOperation(4,3));"
   ]
  },
  {
   "cell_type": "code",
   "execution_count": 6,
   "metadata": {
    "vscode": {
     "languageId": "polyglot-notebook"
    }
   },
   "outputs": [],
   "source": [
    "public int Multiply(int a, int b) => a*b;"
   ]
  },
  {
   "cell_type": "code",
   "execution_count": 7,
   "metadata": {
    "vscode": {
     "languageId": "polyglot-notebook"
    }
   },
   "outputs": [],
   "source": [
    "mathOperation = Multiply;"
   ]
  },
  {
   "cell_type": "code",
   "execution_count": 8,
   "metadata": {
    "vscode": {
     "languageId": "polyglot-notebook"
    }
   },
   "outputs": [
    {
     "name": "stdout",
     "output_type": "stream",
     "text": [
      "12\r\n"
     ]
    }
   ],
   "source": [
    "Console.WriteLine(mathOperation(4, 3));"
   ]
  },
  {
   "cell_type": "markdown",
   "metadata": {},
   "source": [
    "## delegates and events"
   ]
  },
  {
   "cell_type": "code",
   "execution_count": 10,
   "metadata": {
    "vscode": {
     "languageId": "polyglot-notebook"
    }
   },
   "outputs": [],
   "source": [
    "public enum Gender\n",
    "{\n",
    "    Male,\n",
    "    Female,\n",
    "    Divers\n",
    "}\n",
    "\n",
    "public class Person\n",
    "{\n",
    "    public string FirstName { get; set; }\n",
    "    public DateTime DateOfBirth { get; set; }\n",
    "    public Gender Gender { get; set; }\n",
    "\n",
    "    public override string ToString() => this.FirstName;\n",
    "}\n",
    "\n",
    "var people = new []\n",
    "{\n",
    "    new Person { FirstName = \"Anna\", Gender = Gender.Female, DateOfBirth = new DateTime(2014, 4, 2) },\n",
    "    new Person { FirstName = \"Max\", Gender = Gender.Male, DateOfBirth = new DateTime(1998, 11, 18) },\n",
    "    new Person { FirstName = \"Barbara\", Gender = Gender.Female, DateOfBirth = new DateTime(2001, 1, 23) },\n",
    "    new Person { FirstName = \"Peter\", Gender = Gender.Male, DateOfBirth = new DateTime(2016, 7, 22) }\n",
    "};"
   ]
  },
  {
   "cell_type": "code",
   "execution_count": 11,
   "metadata": {
    "vscode": {
     "languageId": "polyglot-notebook"
    }
   },
   "outputs": [],
   "source": [
    "public delegate bool PersonCheckDelegate(Person p);"
   ]
  },
  {
   "cell_type": "markdown",
   "metadata": {},
   "source": [
    "Schreiben Sie eine Methode ```IsOldEnoughToVote```, die für eine Person entscheidet, ob sie bereits 18 Jahre alt ist. Die Methode soll dem in Aufgabe 1 geschriebenen Delegate-Typ entsprechen.\n",
    "\n",
    "Hinweis: Die Klasse ```DateTime``` beinhaltet die Methode ```AddYears(x)```, mit ```DateTime.Now``` erhalten Sie das aktuelle Datum."
   ]
  },
  {
   "cell_type": "code",
   "execution_count": 14,
   "metadata": {
    "vscode": {
     "languageId": "polyglot-notebook"
    }
   },
   "outputs": [],
   "source": [
    "public bool IsOldEnoughToVote(Person p) => p.DateOfBirth.AddYears(18) <= DateTime.Now;\n",
    "\n",
    "PersonCheckDelegate checkFunc = IsOldEnoughToVote;"
   ]
  },
  {
   "cell_type": "markdown",
   "metadata": {},
   "source": [
    "Iterieren Sie in einer ```foreach```-Schleife über alle Personen in ```people``` und rufen Sie die ```checkFunc``` für jede Person auf. Wenn der Check erfolgreich ist, geben Sie die Person auf der Konsole aus.\n",
    "\n",
    "Es sollten Max und Barbara ausgegeben werden."
   ]
  },
  {
   "cell_type": "code",
   "execution_count": 16,
   "metadata": {
    "vscode": {
     "languageId": "polyglot-notebook"
    }
   },
   "outputs": [
    {
     "name": "stdout",
     "output_type": "stream",
     "text": [
      "Max\n",
      "Barbara\n"
     ]
    }
   ],
   "source": [
    "foreach ( var p in people) {\n",
    "    if (checkFunc(p)) {\n",
    "        Console.WriteLine(p.FirstName);\n",
    "    }\n",
    "}"
   ]
  },
  {
   "cell_type": "markdown",
   "metadata": {},
   "source": [
    "Schreiben Sie eine **Lambda-Expression**, die dem ```PersonCheckDelegate```-Typ entspricht und abprüft, ob es sich um eine Frau handelt. Speichern Sie diese Lambda-Expression als Variable namens ```femaleCheck```.\n",
    "\n",
    "Weisen Sie den ```femaleCheck``` der bestehenden ```checkFunc``` zu.\n",
    "\n",
    "Führen Sie anschließend noch einmal den Code von Aufgabe 4 aus - nun sollten Anna und Barbara ausgegeben werden."
   ]
  },
  {
   "cell_type": "code",
   "execution_count": 18,
   "metadata": {
    "vscode": {
     "languageId": "polyglot-notebook"
    }
   },
   "outputs": [],
   "source": [
    "public bool IsFemale(Person p) => p.Gender.Equals(\"Female\");"
   ]
  },
  {
   "cell_type": "markdown",
   "metadata": {},
   "source": [
    "Erstellen Sie eine Liste namens ```multipleChecks```, die beliebig viele ```PersonCheckDelegate```-Objekte beinhalten kann.\n",
    "\n",
    "Fügen Sie die bisherigen Methoden ```IsOldEnoughToVote``` und ```femaleCheck``` zur Liste hinzu."
   ]
  },
  {
   "cell_type": "code",
   "execution_count": 20,
   "metadata": {
    "vscode": {
     "languageId": "polyglot-notebook"
    }
   },
   "outputs": [],
   "source": [
    "public List<PersonCheckDelegate> multipleChecks = new List<PersonCheckDelegate> { IsOldEnoughToVote, IsFemale };"
   ]
  },
  {
   "cell_type": "markdown",
   "metadata": {},
   "source": [
    "Iterieren Sie wieder über alle Personen aus ```people``` (siehe Aufgabe 4), prüfen Sie nun aber sämtliche Checks aus ```multipleChecks``` ab. Erfüllt eine Person alle Bedingungen, so geben Sie diese auf der Konsole aus (es sollte nur Barbara übrig bleiben).\n",
    "\n",
    "Hinweis: Collections besitzen die Erweiterungsmethode ```.All```, die eine kompaktere Schreibweise ermöglichen würde."
   ]
  },
  {
   "cell_type": "code",
   "execution_count": 24,
   "metadata": {
    "vscode": {
     "languageId": "polyglot-notebook"
    }
   },
   "outputs": [],
   "source": [
    "foreach (var p in people) {\n",
    "    if (multipleChecks.All(check => check(p))) {\n",
    "        Console.WriteLine(p.FirstName);\n",
    "    }\n",
    "}"
   ]
  }
 ],
 "metadata": {
  "kernelspec": {
   "display_name": ".NET (C#)",
   "language": "C#",
   "name": ".net-csharp"
  },
  "language_info": {
   "name": "python"
  },
  "polyglot_notebook": {
   "kernelInfo": {
    "defaultKernelName": "csharp",
    "items": [
     {
      "aliases": [],
      "name": "csharp"
     }
    ]
   }
  }
 },
 "nbformat": 4,
 "nbformat_minor": 2
}
