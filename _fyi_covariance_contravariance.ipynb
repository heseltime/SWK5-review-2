{
 "cells": [
  {
   "cell_type": "markdown",
   "metadata": {},
   "source": [
    "## Covariance\n",
    "\n",
    "Covariance allows a method to return a more derived type than that specified by the generic parameter. In other words, it preserves assignment compatibility. In C#, covariance is supported in:\n",
    "\n",
    "- Generic interfaces and delegates where the type parameter is used only as a return type (output position)."
   ]
  },
  {
   "cell_type": "code",
   "execution_count": 1,
   "metadata": {
    "dotnet_interactive": {
     "language": "csharp"
    },
    "polyglot_notebook": {
     "kernelName": "csharp"
    },
    "vscode": {
     "languageId": "polyglot-notebook"
    }
   },
   "outputs": [],
   "source": [
    "using System;\n",
    "using System.Collections.Generic;\n",
    "\n",
    "public class Animal { }\n",
    "public class Dog : Animal { }\n",
    "\n",
    "public interface ICovariant<out T> { }\n",
    "\n",
    "public class Covariant<T> : ICovariant<T> { }\n",
    "\n",
    "class Program\n",
    "{\n",
    "    static void Main()\n",
    "    {\n",
    "        ICovariant<Dog> dogs = new Covariant<Dog>();\n",
    "        ICovariant<Animal> animals = dogs; // Covariance allows this assignment\n",
    "        \n",
    "        Console.WriteLine(\"Covariance works!\");\n",
    "    }\n",
    "}\n"
   ]
  },
  {
   "cell_type": "markdown",
   "metadata": {},
   "source": [
    "### Contravariance\n",
    "\n",
    "Contravariance allows a method to accept parameters that are less derived than that specified by the generic parameter. In other words, it reverses assignment compatibility. In C#, contravariance is supported in:\n",
    "\n",
    "- Generic interfaces and delegates where the type parameter is used only as a parameter type (input position)."
   ]
  },
  {
   "cell_type": "code",
   "execution_count": 2,
   "metadata": {
    "vscode": {
     "languageId": "polyglot-notebook"
    }
   },
   "outputs": [],
   "source": [
    "using System;\n",
    "\n",
    "public class Animal { }\n",
    "public class Dog : Animal { }\n",
    "\n",
    "public interface IContravariant<in T>\n",
    "{\n",
    "    void DoSomething(T item);\n",
    "}\n",
    "\n",
    "public class Contravariant<T> : IContravariant<T>\n",
    "{\n",
    "    public void DoSomething(T item)\n",
    "    {\n",
    "        Console.WriteLine($\"Doing something with {item.GetType().Name}\");\n",
    "    }\n",
    "}\n",
    "\n",
    "class Program\n",
    "{\n",
    "    static void Main()\n",
    "    {\n",
    "        IContravariant<Animal> animals = new Contravariant<Animal>();\n",
    "        IContravariant<Dog> dogs = animals; // Contravariance allows this assignment\n",
    "\n",
    "        dogs.DoSomething(new Dog());\n",
    "    }\n",
    "}\n"
   ]
  },
  {
   "cell_type": "markdown",
   "metadata": {},
   "source": [
    "### Covariance and Contravariance with Delegates\n",
    "\n",
    "Covariance and contravariance also apply to delegates. Covariance allows a method to have a more derived return type, and contravariance allows a method to have parameters that are less derived."
   ]
  },
  {
   "cell_type": "code",
   "execution_count": 3,
   "metadata": {
    "vscode": {
     "languageId": "polyglot-notebook"
    }
   },
   "outputs": [],
   "source": [
    "using System;\n",
    "\n",
    "public class Animal { }\n",
    "public class Dog : Animal { }\n",
    "\n",
    "public delegate Animal CovariantDelegate();\n",
    "public delegate void ContravariantDelegate(Dog dog);\n",
    "\n",
    "class Program\n",
    "{\n",
    "    public static Dog GetDog() => new Dog();\n",
    "    public static void HandleAnimal(Animal animal) => Console.WriteLine(animal.GetType().Name);\n",
    "\n",
    "    static void Main()\n",
    "    {\n",
    "        CovariantDelegate covariant = GetDog;\n",
    "        Animal animal = covariant();\n",
    "        Console.WriteLine(animal.GetType().Name);\n",
    "\n",
    "        ContravariantDelegate contravariant = HandleAnimal;\n",
    "        contravariant(new Dog());\n",
    "    }\n",
    "}\n"
   ]
  },
  {
   "cell_type": "markdown",
   "metadata": {},
   "source": [
    "In this example:\n",
    "\n",
    "- CovariantDelegate demonstrates covariance by allowing a method that returns Dog (a derived type) to be assigned to a delegate that returns Animal.\n",
    "- ContravariantDelegate demonstrates contravariance by allowing a method that accepts Animal (a base type) to be assigned to a delegate that accepts Dog."
   ]
  },
  {
   "cell_type": "code",
   "execution_count": null,
   "metadata": {
    "vscode": {
     "languageId": "polyglot-notebook"
    }
   },
   "outputs": [],
   "source": []
  }
 ],
 "metadata": {
  "kernelspec": {
   "display_name": ".NET (C#)",
   "language": "C#",
   "name": ".net-csharp"
  },
  "language_info": {
   "name": "python"
  },
  "polyglot_notebook": {
   "kernelInfo": {
    "defaultKernelName": "csharp",
    "items": [
     {
      "aliases": [],
      "name": "csharp"
     }
    ]
   }
  }
 },
 "nbformat": 4,
 "nbformat_minor": 2
}
