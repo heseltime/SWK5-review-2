{
 "cells": [
  {
   "cell_type": "markdown",
   "metadata": {},
   "source": [
    "### There was  Hash Dict somewhere in the exercises ...\n",
    "\n",
    "\n",
    "In C#, the Dictionary<TKey, TValue> class is a collection of key/value pairs that is implemented as a hash table. It is part of the System.Collections.Generic namespace. Here's how you can create and use a dictionary in C#."
   ]
  },
  {
   "cell_type": "code",
   "execution_count": 3,
   "metadata": {
    "dotnet_interactive": {
     "language": "csharp"
    },
    "polyglot_notebook": {
     "kernelName": "csharp"
    },
    "vscode": {
     "languageId": "polyglot-notebook"
    }
   },
   "outputs": [
    {
     "name": "stdout",
     "output_type": "stream",
     "text": [
      "Alice's age is 30\n",
      "Bob's age is 25\n",
      "Charlie's age is 35\n",
      "Dave's age is 40\n",
      "Eve is not in the dictionary.\n",
      "Alice: 30\n",
      "Bob: 25\n",
      "Dave: 40\n"
     ]
    }
   ],
   "source": [
    "// Create a dictionary to store names and ages\n",
    "Dictionary<string, int> ages = new Dictionary<string, int>();\n",
    "\n",
    "// Add some key/value pairs to the dictionary\n",
    "ages.Add(\"Alice\", 30);\n",
    "ages.Add(\"Bob\", 25);\n",
    "ages.Add(\"Charlie\", 35);\n",
    "\n",
    "// Alternatively, you can use the indexer to add key/value pairs\n",
    "ages[\"Dave\"] = 40;\n",
    "\n",
    "// Access and print values by key\n",
    "Console.WriteLine($\"Alice's age is {ages[\"Alice\"]}\");\n",
    "Console.WriteLine($\"Bob's age is {ages[\"Bob\"]}\");\n",
    "Console.WriteLine($\"Charlie's age is {ages[\"Charlie\"]}\");\n",
    "Console.WriteLine($\"Dave's age is {ages[\"Dave\"]}\");\n",
    "\n",
    "// Check if a key exists in the dictionary\n",
    "if (ages.ContainsKey(\"Eve\"))\n",
    "{\n",
    "    Console.WriteLine($\"Eve's age is {ages[\"Eve\"]}\");\n",
    "}\n",
    "else\n",
    "{\n",
    "    Console.WriteLine(\"Eve is not in the dictionary.\");\n",
    "}\n",
    "\n",
    "// Remove a key/value pair from the dictionary\n",
    "ages.Remove(\"Charlie\");\n",
    "\n",
    "// Iterate over the dictionary and print all key/value pairs\n",
    "foreach (var kvp in ages)\n",
    "{\n",
    "    Console.WriteLine($\"{kvp.Key}: {kvp.Value}\");\n",
    "}"
   ]
  }
 ],
 "metadata": {
  "kernelspec": {
   "display_name": ".NET (C#)",
   "language": "C#",
   "name": ".net-csharp"
  },
  "language_info": {
   "name": "python"
  },
  "polyglot_notebook": {
   "kernelInfo": {
    "defaultKernelName": "csharp",
    "items": [
     {
      "aliases": [],
      "name": "csharp"
     }
    ]
   }
  }
 },
 "nbformat": 4,
 "nbformat_minor": 2
}
