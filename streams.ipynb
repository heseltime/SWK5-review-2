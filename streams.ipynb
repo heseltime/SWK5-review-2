{
 "cells": [
  {
   "cell_type": "markdown",
   "metadata": {},
   "source": [
    ".ipynb-Limitation here - see stream/ directory for `Dev Kit` example instead."
   ]
  },
  {
   "cell_type": "code",
   "execution_count": 1,
   "metadata": {
    "dotnet_interactive": {
     "language": "csharp"
    },
    "polyglot_notebook": {
     "kernelName": "csharp"
    },
    "vscode": {
     "languageId": "polyglot-notebook"
    }
   },
   "outputs": [
    {
     "ename": "Error",
     "evalue": "(1,1): error CS0246: The type or namespace name 'Stream' could not be found (are you missing a using directive or an assembly reference?)\r\n(2,1): error CS0246: The type or namespace name 'StreamWriter' could not be found (are you missing a using directive or an assembly reference?)\r\n(1,16): error CS0246: The type or namespace name 'FileStream' could not be found (are you missing a using directive or an assembly reference?)\r\n(1,40): error CS0103: The name 'FileMode' does not exist in the current context\r\n(2,23): error CS0246: The type or namespace name 'StreamWriter' could not be found (are you missing a using directive or an assembly reference?)",
     "output_type": "error",
     "traceback": [
      "(1,1): error CS0246: The type or namespace name 'Stream' could not be found (are you missing a using directive or an assembly reference?)\r\n",
      "(2,1): error CS0246: The type or namespace name 'StreamWriter' could not be found (are you missing a using directive or an assembly reference?)\r\n",
      "(1,16): error CS0246: The type or namespace name 'FileStream' could not be found (are you missing a using directive or an assembly reference?)\r\n",
      "(1,40): error CS0103: The name 'FileMode' does not exist in the current context\r\n",
      "(2,23): error CS0246: The type or namespace name 'StreamWriter' could not be found (are you missing a using directive or an assembly reference?)"
     ]
    }
   ],
   "source": [
    "Stream s = new FileStream(\"ascii.out\", FileMode.Create);\n",
    "StreamWriter sw = new StreamWriter(s);\n",
    "sw.WriteLine(\"Current Time {0}\", DateTime.Now);\n",
    "for (int i = 0; i < 10; i++)\n",
    "{\n",
    "    sw.Write(\"{0,4}\", i);\n",
    "}\n",
    "sw.Close();"
   ]
  }
 ],
 "metadata": {
  "kernelspec": {
   "display_name": ".NET (C#)",
   "language": "C#",
   "name": ".net-csharp"
  },
  "language_info": {
   "name": "python"
  },
  "polyglot_notebook": {
   "kernelInfo": {
    "defaultKernelName": "csharp",
    "items": [
     {
      "aliases": [],
      "name": "csharp"
     }
    ]
   }
  }
 },
 "nbformat": 4,
 "nbformat_minor": 2
}
